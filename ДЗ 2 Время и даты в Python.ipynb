{
 "cells": [
  {
   "cell_type": "markdown",
   "id": "4d4126d6",
   "metadata": {},
   "source": [
    "# Задание 1"
   ]
  },
  {
   "cell_type": "code",
   "execution_count": null,
   "id": "ab970a8a",
   "metadata": {},
   "outputs": [],
   "source": [
    "from datetime import datetime\n",
    "\n",
    "newspaper_input = input()\n",
    "newspaper_date = newspaper_input.split('-')[-1].strip()\n",
    "newspaper_name = newspaper_input.split('-')[0].strip()\n",
    "\n",
    "if newspaper_name == 'The Moscow Times':\n",
    "    formated_date = datetime.strptime(newspaper_date, '%A, %B %d, %Y')\n",
    "if newspaper_name == 'The Guardian':\n",
    "    formated_date = datetime.strptime(newspaper_date, '%A, %d.%m.%y')\n",
    "if newspaper_name == 'Daily News':\n",
    "    formated_date = datetime.strptime(newspaper_date, '%A, %d %B %Y')\n",
    "\n",
    "print(formated_date)\n"
   ]
  },
  {
   "cell_type": "markdown",
   "id": "d53df062",
   "metadata": {},
   "source": [
    "# Задание 2"
   ]
  },
  {
   "cell_type": "code",
   "execution_count": 72,
   "id": "207826a9",
   "metadata": {},
   "outputs": [
    {
     "data": {
      "text/plain": [
       "[]"
      ]
     },
     "execution_count": 72,
     "metadata": {},
     "output_type": "execute_result"
    }
   ],
   "source": [
    "from datetime import timedelta\n",
    "\n",
    "def date_range(start_date, end_date):\n",
    "    \"Выводит все даты в диапозоне\"\n",
    "    list_date = []\n",
    "    try:\n",
    "        start_date = datetime.strptime(start_date, '%Y-%m-%d')\n",
    "        end_date = datetime.strptime(end_date, '%Y-%m-%d')\n",
    "    except:\n",
    "        return list_date \n",
    "    else:\n",
    "        current_date = start_date\n",
    "        \n",
    "        while current_date <= end_date:\n",
    "            list_date.append(current_date.strftime('%Y-%m-%d'))\n",
    "            current_date += timedelta(days=1)\n",
    "        return list_date\n",
    "        \n",
    "\n",
    "# Вызов функции\n",
    "date_range('2001-01-01', '31-01-2001')"
   ]
  },
  {
   "cell_type": "code",
   "execution_count": null,
   "id": "8c8a54ee",
   "metadata": {},
   "outputs": [],
   "source": []
  }
 ],
 "metadata": {
  "kernelspec": {
   "display_name": "Python 3",
   "language": "python",
   "name": "python3"
  },
  "language_info": {
   "codemirror_mode": {
    "name": "ipython",
    "version": 3
   },
   "file_extension": ".py",
   "mimetype": "text/x-python",
   "name": "python",
   "nbconvert_exporter": "python",
   "pygments_lexer": "ipython3",
   "version": "3.8.8"
  }
 },
 "nbformat": 4,
 "nbformat_minor": 5
}
