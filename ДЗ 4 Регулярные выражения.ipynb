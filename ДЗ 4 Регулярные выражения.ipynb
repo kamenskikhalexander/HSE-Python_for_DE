{
 "cells": [
  {
   "cell_type": "markdown",
   "id": "68591a07",
   "metadata": {},
   "source": [
    "# Домашнее задание"
   ]
  },
  {
   "cell_type": "markdown",
   "id": "678b7542",
   "metadata": {},
   "source": [
    "Задание 1"
   ]
  },
  {
   "cell_type": "code",
   "execution_count": 8,
   "id": "34d6f343",
   "metadata": {},
   "outputs": [
    {
     "name": "stdout",
     "output_type": "stream",
     "text": [
      "К234ХМ77\n"
     ]
    },
    {
     "data": {
      "text/plain": [
       "'Номер к234хм валиден. Регион: 77'"
      ]
     },
     "execution_count": 8,
     "metadata": {},
     "output_type": "execute_result"
    }
   ],
   "source": [
    "import re\n",
    "\n",
    "def is_valid_car_number(car_number):\n",
    "    regex_car_number = r'([авекмнорстху])(\\d{3})([авекмнорстх]{2})(\\d{2,3})'\n",
    "        \n",
    "    if re.fullmatch(regex_car_number, car_number):\n",
    "        return f\"Номер {car_number[:6]} валиден. Регион: {car_number[6:]}\"\n",
    "    else:\n",
    "        return 'Номер не валиден'\n",
    "\n",
    "    \n",
    "car_number = input().replace(' ', '').lower()\n",
    "is_valid_car_number(car_number)"
   ]
  },
  {
   "cell_type": "markdown",
   "id": "e89626e2",
   "metadata": {},
   "source": [
    "Задание 2"
   ]
  },
  {
   "cell_type": "code",
   "execution_count": 78,
   "id": "066c6a30",
   "metadata": {},
   "outputs": [
    {
     "name": "stdout",
     "output_type": "stream",
     "text": [
      "Напишите функцию функцию, которая будет будет будет будет удалять все все все все последовательные повторы слов из из из из заданной строки строки при помощи регулярных выражений\n"
     ]
    },
    {
     "data": {
      "text/plain": [
       "'Напишите функцию, которая будет удалять все последовательные повторы слов из заданной строки при помощи регулярных выражений'"
      ]
     },
     "execution_count": 78,
     "metadata": {},
     "output_type": "execute_result"
    }
   ],
   "source": [
    "def delete_repeat_word(text):\n",
    "    \n",
    "        return re.sub(r'\\b(\\w+)\\b(\\s+\\1)+', r'\\1', text)\n",
    "    \n",
    "\n",
    "text = input()\n",
    "delete_repeat_word(text)"
   ]
  }
 ],
 "metadata": {
  "kernelspec": {
   "display_name": "Python 3",
   "language": "python",
   "name": "python3"
  },
  "language_info": {
   "codemirror_mode": {
    "name": "ipython",
    "version": 3
   },
   "file_extension": ".py",
   "mimetype": "text/x-python",
   "name": "python",
   "nbconvert_exporter": "python",
   "pygments_lexer": "ipython3",
   "version": "3.8.8"
  }
 },
 "nbformat": 4,
 "nbformat_minor": 5
}
