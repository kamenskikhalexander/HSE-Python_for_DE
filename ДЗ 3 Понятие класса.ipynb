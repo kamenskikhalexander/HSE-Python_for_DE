{
 "cells": [
  {
   "cell_type": "markdown",
   "id": "f9501e3c",
   "metadata": {},
   "source": [
    "# Задание 1"
   ]
  },
  {
   "cell_type": "code",
   "execution_count": 190,
   "id": "aef7d6de",
   "metadata": {},
   "outputs": [],
   "source": [
    "from datetime import datetime\n",
    "\n",
    "class Account:\n",
    "    def __init__(self,name,balance=0,history=[]):\n",
    "        self.name = name\n",
    "        self.balance = balance\n",
    "        self.history = history\n",
    "        \n",
    "    def deposit_into_account(self,sum_update):\n",
    "        \"\"\"Увеличивает баланс при внесении денег\"\"\"\n",
    "        self.balance = self.balance + sum_update\n",
    "        current_date = datetime.now()\n",
    "        current_date_format = current_date.strftime('%Y-%m-%d %H:%M')\n",
    "        self.history.insert(0,{'Дата операции':current_date_format,'Тип операции': 'Пополнение', 'Сумма': sum_update, 'Текущий баланс': self.balance})\n",
    "    \n",
    "    def withdraw_from_account(self,sum_update):\n",
    "        \"\"\"Уменьшает баланс при снятии денег\"\"\"\n",
    "        if sum_update < self.balance:\n",
    "            self.balance = self.balance - sum_update\n",
    "            current_date = datetime.now()\n",
    "            current_date_format = current_date.strftime('%Y-%m-%d %H:%M')\n",
    "            self.history.insert(0,{'Дата операции': current_date_format, 'Тип операции': 'Снятие', 'Сумма': sum_update, 'Текущий баланс': self.balance})\n",
    "        else:\n",
    "            print('Недостаточно средств для снятия суммы')\n",
    "\n",
    "                                \n",
    "    "
   ]
  },
  {
   "cell_type": "code",
   "execution_count": 191,
   "id": "f3e751ac",
   "metadata": {},
   "outputs": [],
   "source": [
    "client = Account(name = 'Сергей') "
   ]
  },
  {
   "cell_type": "code",
   "execution_count": 192,
   "id": "91337bc9",
   "metadata": {},
   "outputs": [
    {
     "data": {
      "text/plain": [
       "0"
      ]
     },
     "execution_count": 192,
     "metadata": {},
     "output_type": "execute_result"
    }
   ],
   "source": [
    "client.balance"
   ]
  },
  {
   "cell_type": "code",
   "execution_count": 193,
   "id": "19b74c21",
   "metadata": {},
   "outputs": [],
   "source": [
    "client.deposit_into_account(sum_update = 1000)"
   ]
  },
  {
   "cell_type": "code",
   "execution_count": 194,
   "id": "6306260b",
   "metadata": {},
   "outputs": [
    {
     "data": {
      "text/plain": [
       "1000"
      ]
     },
     "execution_count": 194,
     "metadata": {},
     "output_type": "execute_result"
    }
   ],
   "source": [
    "client.balance"
   ]
  },
  {
   "cell_type": "code",
   "execution_count": 195,
   "id": "65c0c6a7",
   "metadata": {},
   "outputs": [],
   "source": [
    "client.withdraw_from_account(sum_update = 500)"
   ]
  },
  {
   "cell_type": "code",
   "execution_count": 196,
   "id": "09a435f0",
   "metadata": {},
   "outputs": [
    {
     "data": {
      "text/plain": [
       "500"
      ]
     },
     "execution_count": 196,
     "metadata": {},
     "output_type": "execute_result"
    }
   ],
   "source": [
    "client.balance"
   ]
  },
  {
   "cell_type": "code",
   "execution_count": 197,
   "id": "88987bda",
   "metadata": {},
   "outputs": [
    {
     "data": {
      "text/plain": [
       "[{'Дата операции': '2024-09-21 23:58',\n",
       "  'Тип операции': 'Снятие',\n",
       "  'Сумма': 500,\n",
       "  'Текущий баланс': 500},\n",
       " {'Дата операции': '2024-09-21 23:30',\n",
       "  'Тип операции': 'Пополнение',\n",
       "  'Сумма': 1000,\n",
       "  'Текущий баланс': 1000}]"
      ]
     },
     "execution_count": 197,
     "metadata": {},
     "output_type": "execute_result"
    }
   ],
   "source": [
    "client.history"
   ]
  },
  {
   "cell_type": "code",
   "execution_count": null,
   "id": "9580bd68",
   "metadata": {},
   "outputs": [],
   "source": []
  }
 ],
 "metadata": {
  "kernelspec": {
   "display_name": "Python 3",
   "language": "python",
   "name": "python3"
  },
  "language_info": {
   "codemirror_mode": {
    "name": "ipython",
    "version": 3
   },
   "file_extension": ".py",
   "mimetype": "text/x-python",
   "name": "python",
   "nbconvert_exporter": "python",
   "pygments_lexer": "ipython3",
   "version": "3.8.8"
  }
 },
 "nbformat": 4,
 "nbformat_minor": 5
}
