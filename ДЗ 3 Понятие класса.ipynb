{
 "cells": [
  {
   "cell_type": "markdown",
   "id": "5dd53bbe",
   "metadata": {},
   "source": [
    "# Задание 1"
   ]
  },
  {
   "cell_type": "code",
   "execution_count": 37,
   "id": "4cb92dfe",
   "metadata": {},
   "outputs": [],
   "source": [
    "from datetime import datetime\n",
    "\n",
    "class Account:\n",
    "    def __init__(self,name,balance=0,history=[]):\n",
    "        self.__name = name\n",
    "        self.__balance = balance\n",
    "        self.history = history\n",
    "    \n",
    "    def current_balance(self):\n",
    "        return self.__balance\n",
    "        \n",
    "    def deposit_into_account(self,sum_update):\n",
    "        \"\"\"Увеличивает баланс при внесении денег\"\"\"\n",
    "        self.__balance = self.__balance + sum_update\n",
    "        current_date = datetime.now()\n",
    "        current_date_format = current_date.strftime('%Y-%m-%d %H:%M')\n",
    "        self.history.insert(0,{'Дата операции':current_date_format,'Тип операции': 'Пополнение', 'Сумма': sum_update, 'Текущий баланс': self.__balance})\n",
    "    \n",
    "    def withdraw_from_account(self,sum_update):\n",
    "        \"\"\"Уменьшает баланс при снятии денег\"\"\"\n",
    "        if sum_update < self.__balance:\n",
    "            self.__balance = self.__balance - sum_update\n",
    "            current_date = datetime.now()\n",
    "            current_date_format = current_date.strftime('%Y-%m-%d %H:%M')\n",
    "            self.history.insert(0,{'Дата операции': current_date_format, 'Тип операции': 'Снятие', 'Сумма': sum_update, 'Текущий баланс': self.__balance})\n",
    "        else:\n",
    "            print('Недостаточно средств для снятия суммы')\n",
    "\n",
    "                                \n",
    "    "
   ]
  },
  {
   "cell_type": "code",
   "execution_count": 38,
   "id": "32f9f84b",
   "metadata": {},
   "outputs": [],
   "source": [
    "client = Account(name = 'Сергей') "
   ]
  },
  {
   "cell_type": "code",
   "execution_count": 39,
   "id": "14f0bbfd",
   "metadata": {},
   "outputs": [
    {
     "data": {
      "text/plain": [
       "0"
      ]
     },
     "execution_count": 39,
     "metadata": {},
     "output_type": "execute_result"
    }
   ],
   "source": [
    "client.current_balance()"
   ]
  },
  {
   "cell_type": "code",
   "execution_count": 40,
   "id": "323f24ee",
   "metadata": {},
   "outputs": [],
   "source": [
    "client.deposit_into_account(sum_update = 1000)"
   ]
  },
  {
   "cell_type": "code",
   "execution_count": 41,
   "id": "f5aa0725",
   "metadata": {},
   "outputs": [
    {
     "data": {
      "text/plain": [
       "1000"
      ]
     },
     "execution_count": 41,
     "metadata": {},
     "output_type": "execute_result"
    }
   ],
   "source": [
    "client.current_balance()"
   ]
  },
  {
   "cell_type": "code",
   "execution_count": 42,
   "id": "caa26c10",
   "metadata": {},
   "outputs": [],
   "source": [
    "client.withdraw_from_account(sum_update = 500)"
   ]
  },
  {
   "cell_type": "code",
   "execution_count": 43,
   "id": "7e8cee9d",
   "metadata": {},
   "outputs": [
    {
     "data": {
      "text/plain": [
       "500"
      ]
     },
     "execution_count": 43,
     "metadata": {},
     "output_type": "execute_result"
    }
   ],
   "source": [
    "client.current_balance()"
   ]
  },
  {
   "cell_type": "code",
   "execution_count": 44,
   "id": "eb28c71e",
   "metadata": {},
   "outputs": [
    {
     "data": {
      "text/plain": [
       "[{'Дата операции': '2024-10-05 23:53',\n",
       "  'Тип операции': 'Снятие',\n",
       "  'Сумма': 500,\n",
       "  'Текущий баланс': 500},\n",
       " {'Дата операции': '2024-10-05 23:53',\n",
       "  'Тип операции': 'Пополнение',\n",
       "  'Сумма': 1000,\n",
       "  'Текущий баланс': 1000}]"
      ]
     },
     "execution_count": 44,
     "metadata": {},
     "output_type": "execute_result"
    }
   ],
   "source": [
    "client.history"
   ]
  },
  {
   "cell_type": "code",
   "execution_count": null,
   "id": "49345f7a",
   "metadata": {},
   "outputs": [],
   "source": []
  }
 ],
 "metadata": {
  "kernelspec": {
   "display_name": "Python 3",
   "language": "python",
   "name": "python3"
  },
  "language_info": {
   "codemirror_mode": {
    "name": "ipython",
    "version": 3
   },
   "file_extension": ".py",
   "mimetype": "text/x-python",
   "name": "python",
   "nbconvert_exporter": "python",
   "pygments_lexer": "ipython3",
   "version": "3.8.8"
  }
 },
 "nbformat": 4,
 "nbformat_minor": 5
}
