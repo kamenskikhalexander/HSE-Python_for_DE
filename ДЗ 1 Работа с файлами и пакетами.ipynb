{
 "cells": [
  {
   "cell_type": "code",
   "execution_count": 1,
   "id": "221329ef",
   "metadata": {},
   "outputs": [
    {
     "data": {
      "text/plain": [
       "dict"
      ]
     },
     "execution_count": 1,
     "metadata": {},
     "output_type": "execute_result"
    }
   ],
   "source": [
    "import json\n",
    "\n",
    "\n",
    "purchases = {}\n",
    "\n",
    "with open('purchase_log.txt','r',encoding = 'utf-8') as f:\n",
    "    f.readline()\n",
    "    for line in f:\n",
    "        line = line.strip()\n",
    "        dictionary = json.loads(line)\n",
    "        purchases[dictionary['user_id']] = dictionary['category']"
   ]
  },
  {
   "cell_type": "code",
   "execution_count": 2,
   "id": "9c672b5f",
   "metadata": {},
   "outputs": [],
   "source": [
    "with open('visit_log.csv','r',encoding = 'utf-8') as f:\n",
    "    with open('funnel.csv','w',encoding = 'utf-8') as f2write:\n",
    "        f.readline()\n",
    "        for line in f:\n",
    "            id_in_line = line.strip().split(',')[0]\n",
    "            if id_in_line in purchases: \n",
    "                f2write.write(line)"
   ]
  },
  {
   "cell_type": "code",
   "execution_count": null,
   "id": "8d678eef",
   "metadata": {},
   "outputs": [],
   "source": []
  }
 ],
 "metadata": {
  "kernelspec": {
   "display_name": "Python 3",
   "language": "python",
   "name": "python3"
  },
  "language_info": {
   "codemirror_mode": {
    "name": "ipython",
    "version": 3
   },
   "file_extension": ".py",
   "mimetype": "text/x-python",
   "name": "python",
   "nbconvert_exporter": "python",
   "pygments_lexer": "ipython3",
   "version": "3.8.8"
  }
 },
 "nbformat": 4,
 "nbformat_minor": 5
}
